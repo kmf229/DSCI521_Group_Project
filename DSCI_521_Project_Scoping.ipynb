{
 "cells": [
  {
   "cell_type": "markdown",
   "metadata": {},
   "source": [
    "# DSCI 521 Project Scoping\n",
    "Justin Goheen, Toby Obunadike, Kevin Fitzpatrick"
   ]
  },
  {
   "cell_type": "markdown",
   "metadata": {},
   "source": [
    "For our topic, we chose to analyze and attempt to build a quantitative sports betting model using MLB data.  The data sets we'll use include: \n",
    "* pre-processed individual plate appearance data from Retrosheet to formulate our model\n",
    "* historical betting odds on every MLB game to gauge the performance of our model"
   ]
  },
  {
   "cell_type": "markdown",
   "metadata": {},
   "source": [
    "## Background report on the team's members, their self-identified skills, and individual contributions"
   ]
  },
  {
   "cell_type": "markdown",
   "metadata": {},
   "source": [
    "Kevin: Finance major from Penn State University.  I've worked in a corporate finance role with a large healthcare company for the past 12 years.  I completed DSCI 511 last quarter.  Proficient with Python: my strengths include web scraping and cleaning data.  I'd like to get better at running analyses on data including different machine learning techniques.\n",
    "\n",
    "Justin:\n",
    "\n",
    "Toby:"
   ]
  },
  {
   "cell_type": "markdown",
   "metadata": {},
   "source": [
    "## Discussion of what you would like to your analysis to do, who/what it will support"
   ]
  },
  {
   "cell_type": "markdown",
   "metadata": {},
   "source": [
    "Kevin: Ideally, we'd like our analysis to find a strategy that leads to profits from sports betting\n",
    "\n",
    "Justin:\n",
    "\n",
    "Toby:"
   ]
  },
  {
   "cell_type": "markdown",
   "metadata": {},
   "source": [
    "## Exhibition of analyses from dataset(s) explored, including visual analyses, captions, and useful descripitions"
   ]
  },
  {
   "cell_type": "markdown",
   "metadata": {},
   "source": [
    "Kevin:\n",
    "\n",
    "Justin:\n",
    "\n",
    "Toby:"
   ]
  },
  {
   "cell_type": "markdown",
   "metadata": {},
   "source": [
    "## Discussion of who might be interested in your analysis"
   ]
  },
  {
   "cell_type": "markdown",
   "metadata": {},
   "source": [
    "Kevin: People who might be interested in our analysis include sports bettors and handicappers\n",
    "\n",
    "Justin:\n",
    "\n",
    "Toby:"
   ]
  },
  {
   "cell_type": "markdown",
   "metadata": {},
   "source": [
    "## Discussion of how your analysis might fit into an application or investigation"
   ]
  },
  {
   "cell_type": "markdown",
   "metadata": {},
   "source": [
    "Kevin: Theoretically, if we found a profitable strategy to consistently beat Vegas, we could set it up as an online app that users pay to get sports picks.  Or we could use it as a proprietary in-house app that only the creators use.\n",
    "\n",
    "Justin:\n",
    "\n",
    "Toby:"
   ]
  },
  {
   "cell_type": "markdown",
   "metadata": {},
   "source": [
    "## Discussion of how your analysis is limited and could be improved"
   ]
  },
  {
   "cell_type": "markdown",
   "metadata": {},
   "source": [
    "Kevin: The handicappers in Vegas that set sports odds are very intelligent and have access to loads more data than we have.  We are limited in that capacity but it could be improved by getting access to more cutting edge data which I assume is pretty costly.\n",
    "\n",
    "Justin:\n",
    "\n",
    "Toby:"
   ]
  },
  {
   "cell_type": "markdown",
   "metadata": {},
   "source": [
    "## Selection of data for continued analysis, including justification"
   ]
  },
  {
   "cell_type": "markdown",
   "metadata": {},
   "source": [
    "Kevin: As stated earlier, we'll be using Retrosheet play-by-play data to base our analysis on and MLB historical odds in order to train / test our models predictions.\n",
    "\n",
    "Justin:\n",
    "\n",
    "Toby:"
   ]
  },
  {
   "cell_type": "markdown",
   "metadata": {},
   "source": [
    "## Discussion of how your analysis might be completed and disseminated, i.e., who's the target audience?"
   ]
  },
  {
   "cell_type": "markdown",
   "metadata": {},
   "source": [
    "Kevin:  Off the cuff, I could imagine a machine learning algorithm such as regression or decision trees to create our model, but I'm just hypothesizing.\n",
    "\n",
    "Justin:\n",
    "\n",
    "Toby:"
   ]
  }
 ],
 "metadata": {
  "kernelspec": {
   "display_name": "Python 3",
   "language": "python",
   "name": "python3"
  },
  "language_info": {
   "codemirror_mode": {
    "name": "ipython",
    "version": 3
   },
   "file_extension": ".py",
   "mimetype": "text/x-python",
   "name": "python",
   "nbconvert_exporter": "python",
   "pygments_lexer": "ipython3",
   "version": "3.7.4"
  }
 },
 "nbformat": 4,
 "nbformat_minor": 2
}
